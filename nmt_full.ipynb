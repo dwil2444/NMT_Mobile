{
  "nbformat": 4,
  "nbformat_minor": 0,
  "metadata": {
    "kernelspec": {
      "display_name": "Python 3.5.6 64-bit ('cnn': conda)",
      "language": "python",
      "name": "python35664bitcnnconda56357701081d4b1c93b6934220d67c02"
    },
    "language_info": {
      "codemirror_mode": {
        "name": "ipython",
        "version": 3
      },
      "file_extension": ".py",
      "mimetype": "text/x-python",
      "name": "python",
      "nbconvert_exporter": "python",
      "pygments_lexer": "ipython3",
      "version": "3.6.13"
    },
    "colab": {
      "name": "nmt_full.ipynb",
      "private_outputs": true,
      "provenance": [],
      "collapsed_sections": []
    },
    "accelerator": "GPU"
  },
  "cells": [
    {
      "cell_type": "code",
      "metadata": {
        "id": "auZ953Q83YAg"
      },
      "source": [
        "import random\n",
        "import re\n",
        "import torch\n",
        "import torch.nn as nn\n",
        "from torch import optim\n",
        "import torch.nn.functional as F\n",
        "import unicodedata"
      ],
      "execution_count": null,
      "outputs": []
    },
    {
      "cell_type": "markdown",
      "metadata": {
        "id": "sb_c5zxoWOat"
      },
      "source": [
        "### try reversing order of text"
      ]
    },
    {
      "cell_type": "code",
      "metadata": {
        "id": "j-BaLMxE3YAn"
      },
      "source": [
        "device = torch.device(\"cuda\" if torch.cuda.is_available() else \"cpu\")"
      ],
      "execution_count": null,
      "outputs": []
    },
    {
      "cell_type": "code",
      "metadata": {
        "id": "1ZdX-xVv3YAo"
      },
      "source": [
        "device"
      ],
      "execution_count": null,
      "outputs": []
    },
    {
      "cell_type": "markdown",
      "metadata": {
        "id": "6D5WrQlo3YAp"
      },
      "source": [
        "### Data Preparation"
      ]
    },
    {
      "cell_type": "code",
      "metadata": {
        "id": "n52K4CHT3YAp"
      },
      "source": [
        "sos_token = 0\n",
        "eos_token = 1\n",
        "\n",
        "# helper class to assign word to index and vice versa\n",
        "# this class essentially builds a vocab for each language\n",
        "class Lang:\n",
        "    def __init__(self, name):\n",
        "        self.name = name\n",
        "        self.word2idx = {}\n",
        "        self.word2count = {}\n",
        "        self.idx2word = {0: 'SOS',\n",
        "                         1: 'EOS'}\n",
        "        self.num_words = 2 # initialize with the sos and eos tokens\n",
        "        \n",
        "    def addSentence(self, sentence):\n",
        "        for word in sentence.split(' '):\n",
        "            self.addWord(word)\n",
        "            \n",
        "    def addWord(self, word):\n",
        "        if word not in self.word2idx:\n",
        "            self.word2idx[word] = self.num_words\n",
        "            self.word2count[word] = 1\n",
        "            self.idx2word[self.num_words] = word\n",
        "            self.num_words += 1\n",
        "        else:\n",
        "            self.word2count[word] += 1"
      ],
      "execution_count": null,
      "outputs": []
    },
    {
      "cell_type": "code",
      "metadata": {
        "id": "d84s2ils3YAp"
      },
      "source": [
        "def unicodeToAscii(s):\n",
        "    return ''.join(\n",
        "        c for c in unicodedata.normalize('NFD', s)\n",
        "        if unicodedata.category(c) != 'Mn'\n",
        "    )"
      ],
      "execution_count": null,
      "outputs": []
    },
    {
      "cell_type": "code",
      "metadata": {
        "id": "LKVPoTRa3YAq"
      },
      "source": [
        "def normalizeString(s):\n",
        "    s = s.lower().strip()\n",
        "    s = unicodeToAscii(s)\n",
        "    s = re.sub(r\"([.!?])\", r\"\\1\",s)\n",
        "    s = re.sub(r\"[^a-zA-Z.!?]+\", r\" \", s)\n",
        "    s = re.sub(\"\\W+\", \" \", s)\n",
        "    s = s.strip()\n",
        "    return s"
      ],
      "execution_count": null,
      "outputs": []
    },
    {
      "cell_type": "code",
      "metadata": {
        "id": "hcYEBj4Q3YAq"
      },
      "source": [
        "def readLangPair(source_lang, target_lang):\n",
        "    print(\"Reading Sentence Pairs\")\n",
        "    \n",
        "    # a backslash tells the interpreter to extend the logical line to \n",
        "    # the next physical line\n",
        "    lines = open('data/%s-%s.txt' % (source_lang, target_lang), encoding='utf-8').\\\n",
        "        read().strip().split('\\n')\n",
        "    \n",
        "    pairs = [[normalizeString(s) for s in l.split('\\t')] for l in lines]\n",
        "    input_lang = Lang(source_lang)\n",
        "    output_lang = Lang(target_lang)\n",
        "    \n",
        "    return input_lang, output_lang, pairs"
      ],
      "execution_count": null,
      "outputs": []
    },
    {
      "cell_type": "code",
      "metadata": {
        "id": "wDvIxJnB3YAq"
      },
      "source": [
        "max_length = 10\n",
        "\n",
        "eng_prefixes = (\n",
        "    \"i am\", \"i m \",\n",
        "    \"he is\", \"he s \",\n",
        "    \"she is\", \"she s \",\n",
        "    \"you are\", \"you re \",\n",
        "    \"we are\", \"we re \",\n",
        "    \"they are\", \"they re \"\n",
        ")\n",
        "\n",
        "def filterPair(pair):\n",
        "    return len(pair[0].split(' ')) < max_length and \\\n",
        "        len(pair[1].split(' ')) < max_length \n",
        "        # and \\\n",
        "        # pair[0].startswith(eng_prefixes)\n",
        "\n",
        "def filterPairs(pairs):\n",
        "    return [pair for pair in pairs if filterPair(pair)]\n",
        "    "
      ],
      "execution_count": null,
      "outputs": []
    },
    {
      "cell_type": "code",
      "metadata": {
        "scrolled": true,
        "id": "L-y2ZvNz3YAr"
      },
      "source": [
        "# readLangPair('eng', 'fra')"
      ],
      "execution_count": null,
      "outputs": []
    },
    {
      "cell_type": "code",
      "metadata": {
        "id": "m4SIfY3v3YAr"
      },
      "source": [
        "def prepareData(source_lang, target_lang, reverse=False):\n",
        "    input_lang, output_lang, pairs = readLangPair(source_lang, target_lang)\n",
        "    print(\"Read %s sentence pairs\" % len(pairs))\n",
        "    pairs = filterPairs(pairs)\n",
        "    print(\"Triimmed to %s sentence pairs\" % len(pairs))\n",
        "    print(\"Counting Words\")\n",
        "    for pair in pairs:\n",
        "        input_lang.addSentence(pair[0])\n",
        "        output_lang.addSentence(pair[1])\n",
        "    print(\"Counted Words: \")\n",
        "    print(input_lang.name, input_lang.num_words)\n",
        "    print(output_lang.name, output_lang.num_words)\n",
        "    return input_lang, output_lang, pairs\n",
        "\n",
        "input_lang, output_lang, pairs = prepareData('eng', 'fra')\n",
        "print(random.choice(pairs))"
      ],
      "execution_count": null,
      "outputs": []
    },
    {
      "cell_type": "markdown",
      "metadata": {
        "id": "zVQddPwU3YAr"
      },
      "source": [
        "### Encoder RNN"
      ]
    },
    {
      "cell_type": "code",
      "metadata": {
        "id": "snJr7P3Z3YAs"
      },
      "source": [
        "class EncoderRNN(nn.Module):\n",
        "    def __init__(self, input_size, hidden_size):\n",
        "        super(EncoderRNN, self).__init__()\n",
        "        self.hidden_size = hidden_size\n",
        "        \n",
        "        self.embedding = nn.Embedding(input_size, hidden_size)\n",
        "        self.gru = nn.GRU(hidden_size, hidden_size)\n",
        "        \n",
        "    def forward(self, input, hidden):\n",
        "        # ensure the first two dimensions are 1x1, -1 means infer this dimension\n",
        "        embedded = self.embedding(input).view(1, 1, -1)\n",
        "        output = embedded\n",
        "        # the gru will output the current prediction and the next hidden state\n",
        "        output, hidden = self.gru(output, hidden)\n",
        "        return output, hidden\n",
        "    \n",
        "    def initHidden(self):\n",
        "        # the initial hidden state\n",
        "        return torch.zeros(1, 1, self.hidden_size, device=device)\n",
        "        "
      ],
      "execution_count": null,
      "outputs": []
    },
    {
      "cell_type": "markdown",
      "metadata": {
        "id": "rTz0rT9G3YAs"
      },
      "source": [
        "### Decoder RNN with Attention"
      ]
    },
    {
      "cell_type": "code",
      "metadata": {
        "id": "FBmSYr_X3YAt"
      },
      "source": [
        "class AttnDecoderRNN(nn.Module):\n",
        "    def __init__(self, hidden_size, output_size, drop_rate=0.1, max_length=10):\n",
        "        super(AttnDecoderRNN, self).__init__()\n",
        "        self.hidden_size = hidden_size\n",
        "        self.output_size = output_size\n",
        "        self.drop_rate = drop_rate\n",
        "        self.max_length = max_length\n",
        "        \n",
        "        self.embedding = nn.Embedding(self.output_size, self.hidden_size)\n",
        "        self.attn = nn.Linear(self.hidden_size * 2, self.max_length)\n",
        "        self.attn_combine = nn.Linear(self.hidden_size * 2, self.hidden_size)\n",
        "        self.dropout = nn.Dropout(self.drop_rate)\n",
        "        self.gru = nn.GRU(self.hidden_size, self.hidden_size)\n",
        "        self.out = nn.Linear(self.hidden_size, self.output_size)\n",
        "        \n",
        "    def forward(self, input, hidden, encoder_outputs):\n",
        "        embedded = self.embedding(input).view(1, 1, -1)\n",
        "        embedded = self.dropout(embedded)\n",
        "        \n",
        "        \n",
        "        # what is happening here ?\n",
        "        attn_weights = F.softmax(\n",
        "            self.attn(torch.cat((embedded[0], hidden[0]), 1)), dim=1)\n",
        "        attn_applied = torch.bmm(attn_weights.unsqueeze(0),\n",
        "                                encoder_outputs.unsqueeze(0))\n",
        "        output = torch.cat((embedded[0], attn_applied[0]), 1)\n",
        "        output = self.attn_combine(output).unsqueeze(0)\n",
        "        \n",
        "        output = F.relu(output)\n",
        "        output, hidden = self.gru(output, hidden)\n",
        "        \n",
        "        output = F.softmax(self.out(output[0]), dim=1)\n",
        "        \n",
        "        return output, hidden, attn_weights\n",
        "    \n",
        "    def initHidden(self):\n",
        "        return torch.zeros(1, 1, self.hidden_size, device=device)\n",
        "        \n",
        "        "
      ],
      "execution_count": null,
      "outputs": []
    },
    {
      "cell_type": "markdown",
      "metadata": {
        "id": "BT23EpZw3YAt"
      },
      "source": [
        "### Training Process"
      ]
    },
    {
      "cell_type": "code",
      "metadata": {
        "id": "f1dRcjmB3YAu"
      },
      "source": [
        "def indexesFromSentence(lang, sentence):\n",
        "    return [lang.word2idx[word] for word in sentence.split(' ')]\n",
        "\n",
        "def tensorFromSentence(lang, sentence):\n",
        "    indexes = indexesFromSentence(lang, sentence)\n",
        "    indexes.append(eos_token)\n",
        "    return torch.tensor(indexes, dtype=torch.long, device=device).view(-1, 1)\n",
        "\n",
        "def tensorsFromPair(pair):\n",
        "    input_tensor = tensorFromSentence(input_lang, pair[0])\n",
        "    target_tensor = tensorFromSentence(output_lang, pair[1])\n",
        "    return (input_tensor, target_tensor)"
      ],
      "execution_count": null,
      "outputs": []
    },
    {
      "cell_type": "code",
      "metadata": {
        "id": "GG9JFTg93YAu"
      },
      "source": [
        "teacher_forcing_ratio = 0.5\n",
        "\n",
        "def train(input, output, encoder, decoder, encoder_optimizer, decoder_optimizer, \\\n",
        "          criterion, max_length=10):\n",
        "    \n",
        "    encoder_hidden = encoder.initHidden()\n",
        "    \n",
        "    encoder_optimizer.zero_grad()\n",
        "    decoder_optimizer.zero_grad()\n",
        "    \n",
        "    input_length = input.size(0)\n",
        "    target_length = output.size(0)\n",
        "    \n",
        "    encoder_outputs = torch.zeros(max_length, encoder.hidden_size, device=device)\n",
        "    \n",
        "    loss = 0\n",
        "    \n",
        "    for ei in range(input_length):\n",
        "        encoder_output, encoder_hidden = encoder(\\\n",
        "                        input[ei], encoder_hidden)\n",
        "        \n",
        "        encoder_outputs[ei] = encoder_output[0, 0] # why?\n",
        "        \n",
        "    decoder_input = torch.tensor([[sos_token]], device=device)\n",
        "    \n",
        "    decoder_hidden = encoder_hidden\n",
        "    \n",
        "    \n",
        "    use_teacher_forcing = True if random.random() < teacher_forcing_ratio else False\n",
        "    \n",
        "    if use_teacher_forcing:\n",
        "        for di in range(target_length):\n",
        "            decoder_output, decoder_hidden, decoder_attention = decoder(\\\n",
        "                             decoder_input, decoder_hidden, encoder_outputs)\n",
        "            loss += criterion(decoder_output, output[di])\n",
        "            decoder_input = output[di] # use teach forcing to\n",
        "            # feed the correct answer instead of decoder output\n",
        "            \n",
        "    else: # use decoder predictions and not correct output\n",
        "        for di in range(target_length):\n",
        "            decoder_output, decoder_hidden, decoder_attention = decoder(\\\n",
        "                            decoder_input, decoder_hidden, encoder_outputs)\n",
        "            topv, topi = decoder_output.topk(1)\n",
        "            decoder_input = topi.squeeze().detach() # remove from computation graph\n",
        "            \n",
        "            loss += criterion(decoder_output, output[di])\n",
        "            if decoder_input.item() == eos_token:\n",
        "                break\n",
        "                \n",
        "    loss.backward()\n",
        "    \n",
        "    encoder_optimizer.step()\n",
        "    decoder_optimizer.step()\n",
        "    \n",
        "    return loss.item() / target_length"
      ],
      "execution_count": null,
      "outputs": []
    },
    {
      "cell_type": "code",
      "metadata": {
        "id": "PVNDe-Ke3YAu"
      },
      "source": [
        "def trainIters(encoder, decoder, n_iters, lr=0.01):\n",
        "    encoder_optimizer = optim.SGD(encoder.parameters(), lr=lr)\n",
        "    decoder_optimizer = optim.SGD(decoder.parameters(), lr=lr)\n",
        "    training_pairs = [tensorsFromPair(random.choice(pairs))\n",
        "                     for i in range(n_iters)]\n",
        "    criterion = nn.NLLLoss()\n",
        "    \n",
        "    for iter in range(1, n_iters + 1):\n",
        "        training_pair = training_pairs[iter-1]\n",
        "        input_tensor = training_pair[0]\n",
        "        target_tensor = training_pair[1]\n",
        "        \n",
        "        prev_loss = 0\n",
        "        loss = train(input_tensor, target_tensor, encoder, \\\n",
        "                    decoder, encoder_optimizer, decoder_optimizer, \\\n",
        "                    criterion)   \n",
        "        # if(iter == 1):\n",
        "        #   prev_loss = loss\n",
        "        # if(loss < prev_loss):\n",
        "        #   torch.save(encoder.state_dict(), 'encoder.pth')   \n",
        "        #   torch.save(decoder.state_dict(), 'decoder.pth')   \n",
        "        #else:\n",
        "        #pass\n",
        "    torch.save(encoder.state_dict(), 'encoder.pth')   \n",
        "    torch.save(decoder.state_dict(), 'decoder.pth')  \n",
        "          "
      ],
      "execution_count": null,
      "outputs": []
    },
    {
      "cell_type": "code",
      "metadata": {
        "id": "rg3xVdTG3YAv"
      },
      "source": [
        "hidden_size = 512\n",
        "encoder1 = EncoderRNN(input_lang.num_words, hidden_size).to(device)\n",
        "attn_decoder1 = AttnDecoderRNN(hidden_size, output_lang.num_words, drop_rate=0.1).to(device)\n",
        "\n",
        "trainIters(encoder1, attn_decoder1, 75000)"
      ],
      "execution_count": null,
      "outputs": []
    },
    {
      "cell_type": "markdown",
      "metadata": {
        "id": "T00XJMvn3YAv"
      },
      "source": [
        "### Evaluation "
      ]
    },
    {
      "cell_type": "code",
      "metadata": {
        "id": "nj1aEjsr3YAv"
      },
      "source": [
        "def evaluate(encoder, decoder, sentence, max_length=10):\n",
        "    with torch.no_grad():\n",
        "        input = tensorFromSentence(input_lang, sentence)\n",
        "        input_length = input.size()[0]\n",
        "        encoder_hidden = encoder.initHidden()\n",
        "        \n",
        "        encoder_outputs = torch.zeros(max_length, encoder.hidden_size, device=device)\n",
        "        \n",
        "        for ei in range(input_length):\n",
        "            encoder_output, encoder_hidden = encoder(input[ei],\n",
        "                                             encoder_hidden)\n",
        "            encoder_outputs[ei] += encoder_output[0, 0]\n",
        "            \n",
        "        decoder_input = torch.tensor([[sos_token]], device=device) \n",
        "        decoder_hidden = encoder_hidden\n",
        "        \n",
        "        decoded_words = []\n",
        "        decoder_attentions = torch.zeros(max_length, max_length)\n",
        "        \n",
        "        for di in range(max_length):\n",
        "            decoder_output, decoder_hidden, decoder_attention = decoder(\n",
        "                decoder_input, decoder_hidden, encoder_outputs)\n",
        "            decoder_attentions[di] = decoder_attention.data\n",
        "            topv, topi = decoder_output.data.topk(1)\n",
        "            if topi.item() == eos_token:\n",
        "                decoded_words.append('<eos>')\n",
        "                break\n",
        "            else:\n",
        "                decoded_words.append(output_lang.idx2word[topi.item()])\n",
        "            \n",
        "            decoder_input = topi.squeeze().detach() # necessary?\n",
        "            \n",
        "    return decoded_words, decoder_attentions[:di+1]"
      ],
      "execution_count": null,
      "outputs": []
    },
    {
      "cell_type": "code",
      "metadata": {
        "id": "JcGJ0tP53YAv"
      },
      "source": [
        "def evaluateRandomly(encoder, decoder, n=3):\n",
        "    for i in range(n):\n",
        "        pair = random.choice(pairs)\n",
        "        print('>', pair[0])\n",
        "        print('=', pair[1])\n",
        "        output_words, attentions = evaluate(encoder, decoder, pair[0])\n",
        "        output_sentence = ' '.join(output_words)\n",
        "        print('<', output_sentence)\n",
        "        print('')"
      ],
      "execution_count": null,
      "outputs": []
    },
    {
      "cell_type": "code",
      "metadata": {
        "id": "u_lCkdhH3YAy"
      },
      "source": [
        "encoder1.load_state_dict(torch.load('encoder.pth'))\n",
        "attn_decoder1.load_state_dict(torch.load('decoder.pth'))\n",
        "evaluateRandomly(encoder1, attn_decoder1, 10)"
      ],
      "execution_count": null,
      "outputs": []
    },
    {
      "cell_type": "markdown",
      "metadata": {
        "id": "_yYlFwfgWn8c"
      },
      "source": [
        "### Model Compression Block"
      ]
    }
  ]
}