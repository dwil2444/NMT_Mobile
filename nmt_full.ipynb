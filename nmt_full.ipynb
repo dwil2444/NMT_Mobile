{
  "nbformat": 4,
  "nbformat_minor": 0,
  "metadata": {
    "kernelspec": {
      "name": "python3",
      "display_name": "Python 3"
    },
    "colab": {
      "name": "nmt_full.ipynb",
      "provenance": [],
      "collapsed_sections": [],
      "toc_visible": true,
      "machine_shape": "hm"
    },
    "accelerator": "GPU",
    "language_info": {
      "name": "python"
    }
  },
  "cells": [
    {
      "cell_type": "code",
      "metadata": {
        "id": "auZ953Q83YAg"
      },
      "source": [
        "import random\n",
        "import re\n",
        "import torch\n",
        "import torch.nn as nn\n",
        "from torch import optim\n",
        "import torch.nn.functional as F\n",
        "import unicodedata\n",
        "from torchtext.data.metrics import bleu_score\n",
        "\n",
        "import os"
      ],
      "execution_count": 1,
      "outputs": []
    },
    {
      "cell_type": "code",
      "metadata": {
        "id": "q_zbjzAEDvC-"
      },
      "source": [
        "import nltk\n",
        "from nltk.translate.bleu_score import corpus_bleu"
      ],
      "execution_count": 2,
      "outputs": []
    },
    {
      "cell_type": "code",
      "metadata": {
        "id": "j-BaLMxE3YAn",
        "colab": {
          "base_uri": "https://localhost:8080/"
        },
        "outputId": "972dce4a-4208-47dc-c9dd-1b3c24593d18"
      },
      "source": [
        "device = torch.device(\"cuda\" if torch.cuda.is_available() else \"cpu\")\n",
        "print(device)"
      ],
      "execution_count": 3,
      "outputs": [
        {
          "output_type": "stream",
          "text": [
            "cuda\n"
          ],
          "name": "stdout"
        }
      ]
    },
    {
      "cell_type": "markdown",
      "metadata": {
        "id": "6D5WrQlo3YAp"
      },
      "source": [
        "### Data Preparation"
      ]
    },
    {
      "cell_type": "code",
      "metadata": {
        "id": "n52K4CHT3YAp"
      },
      "source": [
        "sos_token = 0\n",
        "eos_token = 1\n",
        "\n",
        "# helper class to assign word to index and vice versa\n",
        "# this class essentially builds a vocab for each language\n",
        "class Lang:\n",
        "    def __init__(self, name):\n",
        "        self.name = name\n",
        "        self.word2idx = {}\n",
        "        self.word2count = {}\n",
        "        self.idx2word = {0: 'SOS',\n",
        "                         1: 'EOS'}\n",
        "        self.num_words = 2 # initialize with the sos and eos tokens\n",
        "        \n",
        "    def addSentence(self, sentence):\n",
        "        for word in sentence.split(' '):\n",
        "            self.addWord(word)\n",
        "            \n",
        "    def addWord(self, word):\n",
        "        if word not in self.word2idx:\n",
        "            self.word2idx[word] = self.num_words\n",
        "            self.word2count[word] = 1\n",
        "            self.idx2word[self.num_words] = word\n",
        "            self.num_words += 1\n",
        "        else:\n",
        "            self.word2count[word] += 1"
      ],
      "execution_count": 4,
      "outputs": []
    },
    {
      "cell_type": "code",
      "metadata": {
        "id": "d84s2ils3YAp"
      },
      "source": [
        "def unicodeToAscii(s):\n",
        "    return ''.join(\n",
        "        c for c in unicodedata.normalize('NFD', s)\n",
        "        if unicodedata.category(c) != 'Mn'\n",
        "    )"
      ],
      "execution_count": 5,
      "outputs": []
    },
    {
      "cell_type": "code",
      "metadata": {
        "id": "LKVPoTRa3YAq"
      },
      "source": [
        "def normalizeString(s):\n",
        "    s = unicodeToAscii(s.lower().strip())\n",
        "    s = re.sub(r\"([.!?])\", r\" \\1\", s)\n",
        "    s = re.sub(r\"[^a-zA-Z.!?]+\", r\" \", s)\n",
        "    return s"
      ],
      "execution_count": 6,
      "outputs": []
    },
    {
      "cell_type": "code",
      "metadata": {
        "id": "hcYEBj4Q3YAq"
      },
      "source": [
        "def readLangPair(source_lang, target_lang):\n",
        "    print(\"Reading Sentence Pairs\")\n",
        "    \n",
        "    # a backslash tells the interpreter to extend the logical line to \n",
        "    # the next physical line\n",
        "    lines = open('data/%s-%s.txt' % (source_lang, target_lang), encoding='utf-8').\\\n",
        "        read().strip().split('\\n')\n",
        "    \n",
        "    pairs = [[normalizeString(s) for s in l.split('\\t')] for l in lines]\n",
        "    input_lang = Lang(source_lang)\n",
        "    output_lang = Lang(target_lang)\n",
        "    \n",
        "    return input_lang, output_lang, pairs"
      ],
      "execution_count": 7,
      "outputs": []
    },
    {
      "cell_type": "code",
      "metadata": {
        "id": "wDvIxJnB3YAq"
      },
      "source": [
        "max_length = 10\n",
        "\n",
        "eng_prefixes = (\n",
        "    \"i am\", \"i m \",\n",
        "    \"he is\", \"he s \",\n",
        "    \"she is\", \"she s \",\n",
        "    \"you are\", \"you re \",\n",
        "    \"we are\", \"we re \",\n",
        "    \"they are\", \"they re \"\n",
        ")\n",
        "\n",
        "def filterPair(pair):\n",
        "    return len(pair[0].split(' ')) < max_length and \\\n",
        "        len(pair[1].split(' ')) < max_length \\\n",
        "        and pair[0].startswith(eng_prefixes)\n",
        "\n",
        "def filterPairs(pairs):\n",
        "    return [pair for pair in pairs if filterPair(pair)]\n",
        "    "
      ],
      "execution_count": 8,
      "outputs": []
    },
    {
      "cell_type": "code",
      "metadata": {
        "scrolled": true,
        "id": "L-y2ZvNz3YAr"
      },
      "source": [
        "# readLangPair('eng', 'fra')"
      ],
      "execution_count": 9,
      "outputs": []
    },
    {
      "cell_type": "code",
      "metadata": {
        "id": "m4SIfY3v3YAr",
        "colab": {
          "base_uri": "https://localhost:8080/"
        },
        "outputId": "cba938c8-be98-468c-8354-a3de8feae4b1"
      },
      "source": [
        "def prepareData(source_lang, target_lang, reverse=False):\n",
        "    input_lang, output_lang, pairs = readLangPair(source_lang, target_lang)\n",
        "    print(\"Read %s sentence pairs\" % len(pairs))\n",
        "    pairs = filterPairs(pairs)\n",
        "    print(\"Triimmed to %s sentence pairs\" % len(pairs))\n",
        "    print(\"Counting Words\")\n",
        "    for pair in pairs:\n",
        "        input_lang.addSentence(pair[0])\n",
        "        output_lang.addSentence(pair[1])\n",
        "    print(\"Counted Words: \")\n",
        "    print(input_lang.name, input_lang.num_words)\n",
        "    print(output_lang.name, output_lang.num_words)\n",
        "    return input_lang, output_lang, pairs\n",
        "\n",
        "input_lang, output_lang, pairs = prepareData('eng', 'fra')\n",
        "print(random.choice(pairs))"
      ],
      "execution_count": 10,
      "outputs": [
        {
          "output_type": "stream",
          "text": [
            "Reading Sentence Pairs\n",
            "Read 135842 sentence pairs\n",
            "Triimmed to 10601 sentence pairs\n",
            "Counting Words\n",
            "Counted Words: \n",
            "eng 2803\n",
            "fra 4346\n",
            "['you re considerate .', 'vous etes prevenant .']\n"
          ],
          "name": "stdout"
        }
      ]
    },
    {
      "cell_type": "markdown",
      "metadata": {
        "id": "zVQddPwU3YAr"
      },
      "source": [
        "### Encoder RNN"
      ]
    },
    {
      "cell_type": "code",
      "metadata": {
        "id": "snJr7P3Z3YAs"
      },
      "source": [
        "class EncoderRNN(nn.Module):\n",
        "    def __init__(self, input_size, hidden_size):\n",
        "        super().__init__()\n",
        "        self.hidden_size = hidden_size\n",
        "        \n",
        "        self.embedding = nn.Embedding(input_size, hidden_size)\n",
        "        self.gru = nn.GRU(hidden_size, hidden_size)\n",
        "        \n",
        "    def forward(self, input, hidden):\n",
        "        # ensure the first two dimensions are 1x1, -1 means infer this dimension\n",
        "        embedded = self.embedding(input).view(1, 1, -1)\n",
        "        output = embedded\n",
        "        # the gru will output the current prediction and the next hidden state\n",
        "        output, hidden = self.gru(output, hidden)\n",
        "        return output, hidden\n",
        "    \n",
        "    def initHidden(self):\n",
        "        # the initial hidden state\n",
        "        return torch.zeros(1, 1, self.hidden_size, device=device)\n",
        "        "
      ],
      "execution_count": 11,
      "outputs": []
    },
    {
      "cell_type": "markdown",
      "metadata": {
        "id": "rTz0rT9G3YAs"
      },
      "source": [
        "### Decoder RNN with Attention"
      ]
    },
    {
      "cell_type": "code",
      "metadata": {
        "id": "FBmSYr_X3YAt"
      },
      "source": [
        "class AttnDecoderRNN(nn.Module):\n",
        "    def __init__(self, hidden_size, output_size, drop_rate=0.1, max_length=10):\n",
        "        super().__init__()\n",
        "        self.hidden_size = hidden_size\n",
        "        self.output_size = output_size\n",
        "        self.drop_rate = drop_rate\n",
        "        self.max_length = max_length\n",
        "        \n",
        "        self.embedding = nn.Embedding(self.output_size, self.hidden_size)\n",
        "        self.attn = nn.Linear(self.hidden_size * 2, self.max_length)\n",
        "        self.attn_combine = nn.Linear(self.hidden_size * 2, self.hidden_size)\n",
        "        self.dropout = nn.Dropout(self.drop_rate)\n",
        "        self.gru = nn.GRU(self.hidden_size, self.hidden_size)\n",
        "        self.out = nn.Linear(self.hidden_size, self.output_size)\n",
        "        \n",
        "    def forward(self, input, hidden, encoder_outputs):\n",
        "        embedded = self.embedding(input).view(1, 1, -1)\n",
        "        embedded = self.dropout(embedded)\n",
        "        \n",
        "        \n",
        "        # what is happening here ?\n",
        "        attn_weights = F.softmax(\n",
        "            self.attn(torch.cat((embedded[0], hidden[0]), 1)), dim=1)\n",
        "        attn_applied = torch.bmm(attn_weights.unsqueeze(0),\n",
        "                                encoder_outputs.unsqueeze(0))\n",
        "        output = torch.cat((embedded[0], attn_applied[0]), 1)\n",
        "        output = self.attn_combine(output).unsqueeze(0)\n",
        "        \n",
        "        output = F.relu(output)\n",
        "        output, hidden = self.gru(output, hidden)\n",
        "         \n",
        "        output = F.log_softmax(self.out(output[0]), dim=1) # substituted for\n",
        "                                                  # softmax\n",
        "        return output, hidden, attn_weights\n",
        "    \n",
        "    def initHidden(self):\n",
        "        return torch.zeros(1, 1, self.hidden_size, device=device)\n",
        "        \n",
        "        "
      ],
      "execution_count": 12,
      "outputs": []
    },
    {
      "cell_type": "markdown",
      "metadata": {
        "id": "BT23EpZw3YAt"
      },
      "source": [
        "### Training Process"
      ]
    },
    {
      "cell_type": "code",
      "metadata": {
        "id": "f1dRcjmB3YAu"
      },
      "source": [
        "def indexesFromSentence(lang, sentence):\n",
        "    return [lang.word2idx[word] for word in sentence.split(' ')]\n",
        "\n",
        "def tensorFromSentence(lang, sentence):\n",
        "    indexes = indexesFromSentence(lang, sentence)\n",
        "    indexes.append(eos_token)\n",
        "    return torch.tensor(indexes, dtype=torch.long, device=device).view(-1, 1)\n",
        "\n",
        "def tensorsFromPair(pair):\n",
        "    input_tensor = tensorFromSentence(input_lang, pair[0])\n",
        "    target_tensor = tensorFromSentence(output_lang, pair[1])\n",
        "    return (input_tensor, target_tensor)"
      ],
      "execution_count": 13,
      "outputs": []
    },
    {
      "cell_type": "code",
      "metadata": {
        "id": "GG9JFTg93YAu"
      },
      "source": [
        "teacher_forcing_ratio = 0.5\n",
        "\n",
        "def train(input, label, encoder, decoder, encoder_optimizer, decoder_optimizer, \\\n",
        "          criterion, max_length=10):\n",
        "    \n",
        "    encoder_hidden = encoder.initHidden()\n",
        "    \n",
        "    encoder_optimizer.zero_grad()\n",
        "    decoder_optimizer.zero_grad()\n",
        "    # encoder.train()\n",
        "    # decoder.train()\n",
        "    \n",
        "    input_length = input.size(0)\n",
        "    target_length = label.size(0)\n",
        "    \n",
        "    encoder_outputs = torch.zeros(max_length, encoder.hidden_size, device=device)\n",
        "    \n",
        "    loss = 0\n",
        "    \n",
        "    for ei in range(input_length):\n",
        "        encoder_output, encoder_hidden = encoder(\n",
        "                        input[ei], encoder_hidden)  \n",
        "        encoder_outputs[ei] = encoder_output[0, 0] # why?\n",
        "        \n",
        "    decoder_input = torch.tensor([[sos_token]], device=device)\n",
        "    decoder_hidden = encoder_hidden\n",
        "    \n",
        "    \n",
        "    use_teacher_forcing = True if random.random() < teacher_forcing_ratio else False\n",
        "    \n",
        "    if use_teacher_forcing:\n",
        "        for di in range(target_length):\n",
        "            decoder_output, decoder_hidden, decoder_attention = decoder(\\\n",
        "                             decoder_input, decoder_hidden, encoder_outputs)\n",
        "            loss += criterion(decoder_output, label[di])\n",
        "            decoder_input = label[di] # use teacher forcing to\n",
        "            # feed the correct answer instead of decoder output\n",
        "            \n",
        "    else: # use decoder predictions and not correct output\n",
        "        for di in range(target_length):\n",
        "            decoder_output, decoder_hidden, decoder_attention = decoder(\\\n",
        "                            decoder_input, decoder_hidden, encoder_outputs)\n",
        "            topv, topi = decoder_output.topk(1)\n",
        "            decoder_input = topi.squeeze().detach() # remove from computation graph\n",
        "            \n",
        "            loss += criterion(decoder_output, label[di])\n",
        "            if decoder_input.item() == eos_token:\n",
        "                break\n",
        "                \n",
        "    loss.backward()\n",
        "    \n",
        "    encoder_optimizer.step()\n",
        "    decoder_optimizer.step()\n",
        "    \n",
        "    return loss.item() / target_length"
      ],
      "execution_count": 14,
      "outputs": []
    },
    {
      "cell_type": "code",
      "metadata": {
        "id": "PVNDe-Ke3YAu"
      },
      "source": [
        "def trainIters(encoder, decoder, n_iters, lr=0.01):\n",
        "    encoder_optimizer = optim.SGD(encoder.parameters(), lr=lr)\n",
        "    decoder_optimizer = optim.SGD(decoder.parameters(), lr=lr)\n",
        "    training_pairs = [tensorsFromPair(random.choice(pairs))\n",
        "                     for i in range(n_iters)]\n",
        "    criterion = nn.NLLLoss()\n",
        "    \n",
        "    for iter in range(1, n_iters + 1):\n",
        "        training_pair = training_pairs[iter-1]\n",
        "        input_tensor = training_pair[0]\n",
        "        target_tensor = training_pair[1]\n",
        "        \n",
        "        # prev_loss = 0\n",
        "        loss = train(input_tensor, target_tensor, encoder,\n",
        "                    decoder, encoder_optimizer, decoder_optimizer,\n",
        "                    criterion)   \n",
        "        # print(loss)\n",
        "        # if(iter == 1):\n",
        "        #   prev_loss = loss\n",
        "        # if(loss < prev_loss):\n",
        "        #   torch.save(encoder.state_dict(), 'encoder.pth')   \n",
        "        #   torch.save(decoder.state_dict(), 'decoder.pth')   \n",
        "        #else:\n",
        "        #pass\n",
        "    torch.save(encoder.state_dict(), './model_weights/encoder.pth')   \n",
        "    torch.save(decoder.state_dict(), './model_weights/decoder.pth')  \n",
        "          "
      ],
      "execution_count": 15,
      "outputs": []
    },
    {
      "cell_type": "markdown",
      "metadata": {
        "id": "T00XJMvn3YAv"
      },
      "source": [
        "### Evaluation "
      ]
    },
    {
      "cell_type": "code",
      "metadata": {
        "id": "nj1aEjsr3YAv"
      },
      "source": [
        "def evaluate(encoder, decoder, sentence, max_length=10):\n",
        "    # encoder.eval()\n",
        "    # decoder.eval()\n",
        "    # encoder = encoder.to(device)\n",
        "    # decoder = decoder.to(device)\n",
        "    with torch.no_grad():\n",
        "        input = tensorFromSentence(input_lang, sentence)\n",
        "        input_length = input.size()[0]\n",
        "        encoder_hidden = encoder.initHidden()\n",
        "        \n",
        "        encoder_outputs = torch.zeros(max_length, encoder.hidden_size, device=device)\n",
        "        \n",
        "        for ei in range(input_length):\n",
        "            encoder_output, encoder_hidden = encoder(input[ei],\n",
        "                                             encoder_hidden)\n",
        "            encoder_outputs[ei] += encoder_output[0, 0]\n",
        "            \n",
        "        decoder_input = torch.tensor([[sos_token]], device=device) \n",
        "        decoder_hidden = encoder_hidden\n",
        "        \n",
        "        decoded_words = []\n",
        "        decoder_attentions = torch.zeros(max_length, max_length)\n",
        "        \n",
        "        for di in range(max_length):\n",
        "            decoder_output, decoder_hidden, decoder_attention = decoder(\n",
        "                decoder_input, decoder_hidden, encoder_outputs)\n",
        "            decoder_attentions[di] = decoder_attention.data\n",
        "            topv, topi = decoder_output.data.topk(1)\n",
        "            if topi.item() == eos_token:\n",
        "                decoded_words.append('<eos>')\n",
        "                break\n",
        "            else:\n",
        "                decoded_words.append(output_lang.idx2word[topi.item()])\n",
        "            \n",
        "            decoder_input = topi.squeeze().detach() # necessary?\n",
        "            \n",
        "        return decoded_words, decoder_attentions[:di+1]"
      ],
      "execution_count": 16,
      "outputs": []
    },
    {
      "cell_type": "code",
      "metadata": {
        "id": "JcGJ0tP53YAv"
      },
      "source": [
        "def evaluateRandomly(encoder, decoder, n=3):\n",
        "    # encoder.eval()\n",
        "    # decoder.eval()\n",
        "    for i in range(n):\n",
        "        pair = random.choice(pairs)\n",
        "        print('>', pair[0])\n",
        "        print('=', pair[1])\n",
        "\n",
        "        output_words, attentions = evaluate(encoder, decoder, pair[0])\n",
        "        output_sentence = ' '.join(output_words)\n",
        "        print('<', output_sentence)\n",
        "        print('')"
      ],
      "execution_count": 17,
      "outputs": []
    },
    {
      "cell_type": "code",
      "metadata": {
        "id": "rg3xVdTG3YAv",
        "colab": {
          "base_uri": "https://localhost:8080/"
        },
        "outputId": "ddfd5d14-e282-4aea-d2a1-a5e875bfee0e"
      },
      "source": [
        "hidden_size = 512\n",
        "encoder1 = EncoderRNN(input_lang.num_words, hidden_size).to(device)\n",
        "attn_decoder1 = AttnDecoderRNN(hidden_size, output_lang.num_words, drop_rate=0.1).to(device)\n",
        "\n",
        "\n",
        "if ((device.__str__() == 'cuda')):\n",
        "  # trainIters(encoder1, attn_decoder1, n_iters=75000)\n",
        "  encoder1.load_state_dict(torch.load('./model_weights/encoder.pth'))\n",
        "  attn_decoder1.load_state_dict(torch.load('./model_weights/decoder.pth'))\n",
        "  evaluateRandomly(encoder1, attn_decoder1, 5)\n",
        "else:\n",
        "  print(device)\n",
        "  encoder1.load_state_dict(torch.load('./model_weights/encoder.pth', map_location='cpu'))\n",
        "  attn_decoder1.load_state_dict(torch.load('./model_weights/decoder.pth', map_location='cpu'))\n",
        "\n",
        "  device='cpu'\n",
        "  encoder1.to(device)\n",
        "  attn_decoder1.to(device)\n",
        "\n",
        "\n",
        "  evaluateRandomly(encoder1, attn_decoder1, 5)\n"
      ],
      "execution_count": 18,
      "outputs": [
        {
          "output_type": "stream",
          "text": [
            "> i m impatient .\n",
            "= je suis impatiente .\n",
            "< je suis impatient . <eos>\n",
            "\n",
            "> you re very observant .\n",
            "= tu es tres observatrice .\n",
            "< vous etes tres observateur . <eos>\n",
            "\n",
            "> they re mad at you .\n",
            "= elles sont furieuses apres vous .\n",
            "< elles sont en colere apres vous . <eos>\n",
            "\n",
            "> he is independent of his parents .\n",
            "= il est independant de ses parents .\n",
            "< il est independant de ses parents . <eos>\n",
            "\n",
            "> i m a light sleeper .\n",
            "= je dors peu .\n",
            "< je dors peu . <eos>\n",
            "\n"
          ],
          "name": "stdout"
        }
      ]
    },
    {
      "cell_type": "markdown",
      "metadata": {
        "id": "aHc5jMixm1xU"
      },
      "source": [
        "### BLEU Score"
      ]
    },
    {
      "cell_type": "code",
      "metadata": {
        "id": "2OQ1fsaNm4jz"
      },
      "source": [
        "def evaluateBleu(encoder, decoder, n=3):\n",
        "    from nltk.translate.bleu_score import SmoothingFunction\n",
        "    smoothie = SmoothingFunction().method4\n",
        "    cand = []\n",
        "    ref = []  \n",
        "    encoder.eval()\n",
        "    decoder.eval()\n",
        "    for i in range(5000):\n",
        "        pair = pairs[i]\n",
        "        ref.append(pair[1].split())\n",
        "        output_words, attentions = evaluate(encoder, decoder, pair[0])\n",
        "        output_sentence = ' '.join(output_words)\n",
        "        cand.append(output_sentence.split()[:-1])\n",
        "    return corpus_bleu(ref, cand, smoothing_function=smoothie)"
      ],
      "execution_count": 61,
      "outputs": []
    },
    {
      "cell_type": "code",
      "metadata": {
        "id": "A5ZbiiNv9nBF",
        "colab": {
          "base_uri": "https://localhost:8080/"
        },
        "outputId": "22c6e42d-8d00-4123-f6d1-f4794a7c91f8"
      },
      "source": [
        "if((device.__str__() == 'cuda')):\n",
        "  print(evaluateBleu(encoder1, attn_decoder1, 1))\n",
        "else:\n",
        "  quantized_encoder = torch.quantization.quantize_dynamic(\n",
        "    encoder1, {nn.GRU, nn.Linear, nn.Embedding}, dtype=torch.qint8\n",
        "    )\n",
        "  quantized_decoder = torch.quantization.quantize_dynamic(\n",
        "    attn_decoder1, {nn.GRU, nn.Linear, nn.Embedding}, dtype=torch.qint8\n",
        "    )\n",
        "  print(evaluateBleu(quantized_encoder, quantized_decoder, 1))\n",
        "  torch.save(quantized_encoder.state_dict(), './quantized_weights/q_encoder.pth')\n",
        "  torch.save(quantized_decoder.state_dict(), './quantized_weights/q_decoder.pth')"
      ],
      "execution_count": 62,
      "outputs": [
        {
          "output_type": "stream",
          "text": [
            "0.21715226428238207\n"
          ],
          "name": "stdout"
        }
      ]
    },
    {
      "cell_type": "markdown",
      "metadata": {
        "id": "_yYlFwfgWn8c"
      },
      "source": [
        "### Model Compression Block"
      ]
    },
    {
      "cell_type": "code",
      "metadata": {
        "id": "IqRObM2ik8DC"
      },
      "source": [
        "if((device.__str__() == 'cpu')):\n",
        "  print(os.path.getsize('./model_weights/encoder.pth')/1e6)\n",
        "  print(os.path.getsize('./quantized_weights/q_encoder.pth')/1e6)\n",
        "  print(os.path.getsize('./model_weights/decoder.pth')/1e6)\n",
        "  print(os.path.getsize('./quantized_weights/q_decoder.pth')/1e6)"
      ],
      "execution_count": 21,
      "outputs": []
    },
    {
      "cell_type": "markdown",
      "metadata": {
        "id": "W_V0yKGIlyxC"
      },
      "source": [
        "##### **Torch To ONNX**"
      ]
    },
    {
      "cell_type": "code",
      "metadata": {
        "id": "kwT4wlSBl1fS"
      },
      "source": [
        "# not yet supported by torch\n",
        "dummy_input = torch.zeros(10, 1)\n",
        "\n",
        "quantized_encoder.eval()\n",
        "\n",
        "torch.onnx.export(\n",
        "    quantized_encoder,\n",
        "    dummy_input,\n",
        "    \"torch.onxx\",\n",
        ")"
      ],
      "execution_count": null,
      "outputs": []
    }
  ]
}